{
 "cells": [
  {
   "cell_type": "markdown",
   "source": [
    "# Data exploration &  pré-processing"
   ],
   "metadata": {
    "collapsed": false
   }
  },
  {
   "cell_type": "code",
   "execution_count": 1,
   "metadata": {
    "collapsed": true,
    "pycharm": {
     "is_executing": false
    }
   },
   "outputs": [],
   "source": [
    "import pandas as pd\n",
    "import numpy as np"
   ]
  },
  {
   "cell_type": "markdown",
   "source": [
    "## Petits tests"
   ],
   "metadata": {
    "collapsed": false,
    "pycharm": {
     "name": "#%% md\n"
    }
   }
  },
  {
   "cell_type": "code",
   "execution_count": 12,
   "outputs": [],
   "source": [
    "s1_pickle = pd.read_pickle(\"./src/model/data/S1/S1.pkl\")\n",
    "s1_keys = s1_pickle.keys()"
   ],
   "metadata": {
    "collapsed": false,
    "pycharm": {
     "name": "#%%\n",
     "is_executing": false
    }
   }
  },
  {
   "cell_type": "markdown",
   "source": [
    "L'id du sujet"
   ],
   "metadata": {
    "collapsed": false,
    "pycharm": {
     "name": "#%% md\n"
    }
   }
  },
  {
   "cell_type": "code",
   "execution_count": 3,
   "outputs": [
    {
     "data": {
      "text/plain": "'S2'"
     },
     "metadata": {},
     "output_type": "execute_result",
     "execution_count": 3
    }
   ],
   "source": [
    "s1_pickle['subject']"
   ],
   "metadata": {
    "collapsed": false,
    "pycharm": {
     "name": "#%%\n",
     "is_executing": false
    }
   }
  },
  {
   "cell_type": "markdown",
   "source": [
    "Fréquence cardiaque grâce à l'électrocardiographie (ECG)"
   ],
   "metadata": {
    "collapsed": false,
    "pycharm": {
     "name": "#%% md\n"
    }
   }
  },
  {
   "cell_type": "code",
   "execution_count": 4,
   "outputs": [
    {
     "data": {
      "text/plain": "array([     33,     700,    1316, ..., 5742473, 5742909, 5743349],\n      dtype=int32)"
     },
     "metadata": {},
     "output_type": "execute_result",
     "execution_count": 4
    }
   ],
   "source": [
    "s1_pickle['rpeaks']"
   ],
   "metadata": {
    "collapsed": false,
    "pycharm": {
     "name": "#%%\n",
     "is_executing": false
    }
   }
  },
  {
   "cell_type": "markdown",
   "source": [
    "Contient toutes les données enregistrer par RespiBAN (torse) et Empatica E4 (poignet)\n",
    "\n",
    "Chaque donnée est descrite dans le fichier info.txt de chaque dossier patient"
   ],
   "metadata": {
    "collapsed": false,
    "pycharm": {
     "name": "#%% md\n"
    }
   }
  },
  {
   "cell_type": "code",
   "execution_count": 15,
   "outputs": [
    {
     "data": {
      "text/plain": "{'chest': {'ACC': array([[ 0.91139996,  0.03219998,  0.051     ],\n         [ 0.91120005,  0.03240001,  0.04900002],\n         [ 0.90900004,  0.03460002,  0.04579997],\n         ...,\n         [ 0.91659999,  0.02900004, -0.04180002],\n         [ 0.91719997,  0.03120005, -0.04220003],\n         [ 0.91620004,  0.03120005, -0.03920001]]),\n  'ECG': array([[-0.02503967],\n         [-0.02778625],\n         [-0.03515625],\n         ...,\n         [ 0.06454468],\n         [ 0.06646729],\n         [ 0.07122803]]),\n  'EMG': array([[-1.5],\n         [-1.5],\n         [-1.5],\n         ...,\n         [-1.5],\n         [-1.5],\n         [-1.5]]),\n  'EDA': array([[0.],\n         [0.],\n         [0.],\n         ...,\n         [0.],\n         [0.],\n         [0.]]),\n  'Temp': array([[-273.15],\n         [-273.15],\n         [-273.15],\n         ...,\n         [-273.15],\n         [-273.15],\n         [-273.15]], dtype=float32),\n  'Resp': array([[-3.0380249 ],\n         [-3.04412842],\n         [-3.07006836],\n         ...,\n         [ 4.35028076],\n         [ 4.33654785],\n         [ 4.33807373]])},\n 'wrist': {'ACC': array([[-0.5625  ,  0.046875,  0.84375 ],\n         [-0.5625  ,  0.046875,  0.84375 ],\n         [-0.5625  ,  0.046875,  0.84375 ],\n         ...,\n         [-0.671875,  1.296875,  0.1875  ],\n         [-0.40625 ,  1.15625 ,  0.359375],\n         [-0.375   ,  1.0625  ,  0.390625]]), 'BVP': array([[-4.36],\n         [-5.11],\n         [-5.4 ],\n         ...,\n         [ 2.64],\n         [ 0.17],\n         [-2.58]]), 'EDA': array([[0.267766],\n         [0.262641],\n         [0.26136 ],\n         ...,\n         [3.363043],\n         [3.378417],\n         [3.393791]]), 'TEMP': array([[31.67],\n         [31.67],\n         [31.67],\n         ...,\n         [35.09],\n         [35.09],\n         [35.09]])}}"
     },
     "metadata": {},
     "output_type": "execute_result",
     "execution_count": 15
    }
   ],
   "source": [
    "s1_pickle['signal']"
   ],
   "metadata": {
    "collapsed": false,
    "pycharm": {
     "name": "#%%\n",
     "is_executing": false
    }
   }
  },
  {
   "cell_type": "markdown",
   "source": [
    "Moyenne de la fréquence cardiaque"
   ],
   "metadata": {
    "collapsed": false,
    "pycharm": {
     "name": "#%% md\n"
    }
   }
  },
  {
   "cell_type": "code",
   "execution_count": 4,
   "outputs": [
    {
     "data": {
      "text/plain": "array([70.9229657 , 71.29105528, 68.69383264, ..., 95.13817648,\n       96.7405001 , 96.84438537])"
     },
     "metadata": {},
     "output_type": "execute_result",
     "execution_count": 4
    }
   ],
   "source": [
    "s1_pickle['label']"
   ],
   "metadata": {
    "collapsed": false,
    "pycharm": {
     "name": "#%%\n",
     "is_executing": false
    }
   }
  },
  {
   "cell_type": "code",
   "execution_count": 5,
   "outputs": [
    {
     "data": {
      "text/plain": "array([[0.],\n       [0.],\n       [0.],\n       ...,\n       [0.],\n       [0.],\n       [0.]])"
     },
     "metadata": {},
     "output_type": "execute_result",
     "execution_count": 5
    }
   ],
   "source": [
    "s1_pickle['activity']"
   ],
   "metadata": {
    "collapsed": false,
    "pycharm": {
     "name": "#%%\n",
     "is_executing": false
    }
   }
  },
  {
   "cell_type": "markdown",
   "source": [
    "Information sur la personne"
   ],
   "metadata": {
    "collapsed": false,
    "pycharm": {
     "name": "#%% md\n"
    }
   }
  },
  {
   "cell_type": "code",
   "execution_count": 22,
   "outputs": [
    {
     "data": {
      "text/plain": "{'WEIGHT': 78.0,\n 'Gender': ' m',\n 'AGE': 34,\n 'HEIGHT': 182.0,\n 'SKIN': 3,\n 'SPORT': 6}"
     },
     "metadata": {},
     "output_type": "execute_result",
     "execution_count": 22
    }
   ],
   "source": [
    "s1_pickle['questionnaire']\n"
   ],
   "metadata": {
    "collapsed": false,
    "pycharm": {
     "name": "#%%\n",
     "is_executing": false
    }
   }
  },
  {
   "cell_type": "code",
   "execution_count": 16,
   "outputs": [
    {
     "name": "stdout",
     "text": [
      "ACC\n",
      "ECG\n",
      "EMG\n",
      "EDA\n",
      "Temp\n",
      "Resp\n"
     ],
     "output_type": "stream"
    }
   ],
   "source": [
    "for signal in s1_pickle['signal']['chest']:\n",
    "     print(signal)"
   ],
   "metadata": {
    "collapsed": false,
    "pycharm": {
     "name": "#%%\n",
     "is_executing": false
    }
   }
  },
  {
   "cell_type": "markdown",
   "source": [
    "Les signaux à analyser sont ACC (wrist & chest), ECG (chest), RESP (chest) ET BVP (wrist) "
   ],
   "metadata": {
    "collapsed": false
   }
  },
  {
   "cell_type": "code",
   "execution_count": null,
   "outputs": [],
   "source": [
    "s1_pickle['signal']['wrist']['ACC'][0]\n"
   ],
   "metadata": {
    "collapsed": false,
    "pycharm": {
     "name": "#%%\n",
     "is_executing": true
    }
   }
  },
  {
   "cell_type": "markdown",
   "source": [
    "## Pré-traitement"
   ],
   "metadata": {
    "collapsed": false,
    "pycharm": {
     "name": "#%% md\n"
    }
   }
  },
  {
   "cell_type": "code",
   "execution_count": 11,
   "outputs": [],
   "source": [
    "def split_data(data, value):\n",
    "        splited = np.split(data, value)\n",
    "        temp = list()\n",
    "        for i in splited:\n",
    "            temp.append(np.mean(i))\n",
    "        return temp\n",
    "\n",
    "def scaling_data(signal, frequence):\n",
    "    scale_step = int(frequence / 4)\n",
    "    \n",
    "    scaled_signal = list()\n",
    "    for i in range(0, len(signal), scale_step):\n",
    "        sum_scale_signal = sum(signal[i : i + scale_step]) / scale_step\n",
    "        scaled_signal.append(sum_scale_signal)\n",
    "        \n",
    "    return scaled_signal\n",
    "\n",
    "\"\"\"\n",
    "Supprime les signaux inutiles\n",
    "on fait une copie pour garder les données du patient\n",
    "\"\"\"\n",
    "\n",
    "def remove_useless_data(patient):\n",
    "    # on supprime les données inutiles\n",
    "    copy_patient = patient\n",
    "    del copy_patient['subject']\n",
    "    del copy_patient['signal']['chest']['EDA']\n",
    "    del copy_patient['signal']['chest']['EMG']\n",
    "    del copy_patient['signal']['chest']['Temp']\n",
    "    del copy_patient['signal']['wrist']['EDA']\n",
    "    \n",
    "    return copy_patient\n",
    "\n",
    "def hot_encoding_gender(patient):\n",
    "    return 0 if patient['questionnaire']['Gender'] == 'm' else 1\n",
    "\n",
    "\"\"\"\n",
    "Retourne un dataframe traité provenant des données patients\n",
    "\n",
    ":parameter:\n",
    "patient (dict): donnée patient (fichier pkl)\n",
    "\n",
    ":returns:\n",
    "DataFrame: Données patient traitées\n",
    "\"\"\"\n",
    "def pretreatment(patient):\n",
    "    patient = remove_useless_data(patient)\n",
    "    \n",
    "    rpeak = [0] * len(patient[\"signal\"][\"chest\"][\"ACC\"])  \n",
    "    for i in patient['rpeaks']:\n",
    "        rpeak[i - 1] = 1\n",
    "    label = np.repeat(patient['label'], 8)\n",
    "    \n",
    "    diff = len(patient[\"activity\"]) - len(label)\n",
    "    for i in range(diff):\n",
    "        label = np.append(label, label[-1])\n",
    "    del patient['rpeaks']    \n",
    "    patient['label'] = split_data(label, len(patient['activity']))\n",
    "    patient['rpeak'] = split_data(np.asarray(rpeak), len(patient['activity'])) \n",
    "    # Données torses RespiBan : ACC ECG et Resp sont à 700Hz\n",
    "    # On renome les clés pour y accéder plus facilement\n",
    "    patient[\"signal_chest_ACC\"] = scaling_data(patient[\"signal\"][\"chest\"][\"ACC\"], 700)\n",
    "    patient[\"signal_chest_ECG\"] = scaling_data(patient[\"signal\"][\"chest\"][\"ECG\"], 700)\n",
    "    patient[\"signal_chest_Resp\"] = scaling_data(patient[\"signal\"][\"chest\"][\"Resp\"], 700)\n",
    "\n",
    "    # Données Poignet : ACC à 32Hz et BVP à 64Hz\n",
    "    # Même traitement que pour les données torses\n",
    "    patient[\"signal_wrist_ACC\"] = scaling_data(patient[\"signal\"][\"wrist\"][\"ACC\"], 32)\n",
    "    patient[\"signal_wrist_BVP\"] = scaling_data(patient[\"signal\"][\"wrist\"][\"BVP\"], 64)\n",
    "    \n",
    "    del patient['signal']\n",
    "    \n",
    "    patient['questionnaire']['Gender'] = hot_encoding_gender(patient)\n",
    "    for key, value in patient['questionnaire'].items():\n",
    "        patient[key] = [value] * len(patient[\"signal_wrist_BVP\"])\n",
    "    del patient['questionnaire']\n",
    "    \n",
    "    patient['activity'] = patient['activity'].tolist()\n",
    "    return pd.DataFrame.from_dict(patient)"
   ],
   "metadata": {
    "collapsed": false,
    "pycharm": {
     "name": "#%%\n",
     "is_executing": false
    }
   }
  },
  {
   "cell_type": "code",
   "execution_count": 13,
   "outputs": [],
   "source": [
    "s1_df = pretreatment(s1_pickle)\n",
    "del s1_pickle"
   ],
   "metadata": {
    "collapsed": false,
    "pycharm": {
     "name": "#%%\n",
     "is_executing": false
    }
   }
  },
  {
   "cell_type": "markdown",
   "source": [
    "Maintenant il faut le faire pour chacun des patients et tout regrouper"
   ],
   "metadata": {
    "collapsed": false
   }
  },
  {
   "cell_type": "code",
   "source": [
    "full_df = pd.DataFrame()\n",
    "full_df = full_df.append(s1_df)\n",
    "del s1_df"
   ],
   "metadata": {
    "collapsed": false,
    "pycharm": {
     "name": "#%%\n",
     "is_executing": false
    }
   },
   "execution_count": 14,
   "outputs": []
  },
  {
   "cell_type": "code",
   "execution_count": 15,
   "outputs": [
    {
     "data": {
      "text/plain": "           label activity     rpeak  \\\n0      49.611369    [0.0]  0.000000   \n1      49.611369    [0.0]  0.005714   \n2      49.611369    [0.0]  0.000000   \n3      49.611369    [0.0]  0.000000   \n4      49.611369    [0.0]  0.000000   \n...          ...      ...       ...   \n36843  87.411399    [0.0]  0.000000   \n36844  87.411399    [0.0]  0.005714   \n36845  87.411399    [0.0]  0.000000   \n36846  87.411399    [0.0]  0.005714   \n36847  87.411399    [0.0]  0.000000   \n\n                                        signal_chest_ACC  \\\n0      [0.8521565743855067, -0.06648799930300031, -0....   \n1      [0.8512617124829973, -0.06665485620498657, -0....   \n2      [0.8515702833448138, -0.06467657225472587, -0....   \n3      [0.8521417147772653, -0.0654857121195112, -0.3...   \n4      [0.8519577162606375, -0.06589371238436018, -0....   \n...                                                  ...   \n36843  [0.8910628577641079, -0.10304685865129744, -0....   \n36844  [0.8833097130911691, -0.09567999941962106, -0....   \n36845  [0.883172572680882, -0.0954525705746242, -0.28...   \n36846  [0.8836045742034913, -0.10012685707637242, -0....   \n36847  [0.8836388533455984, -0.10038971287863595, -0....   \n\n              signal_chest_ECG      signal_chest_Resp  \\\n0       [0.035650111607142855]    [4.834437779017857]   \n1         [0.1031451416015625]    [4.238839285714286]   \n2        [0.09910112653459821]    [2.058558872767857]   \n3       [-0.17075657435825892]  [-0.4639805385044643]   \n4      [-0.036633387974330356]  [-1.8673967633928572]   \n...                        ...                    ...   \n36843   [-0.09917855398995536]  [-1.9022478376116072]   \n36844    [0.03201102120535714]  [-2.1953212193080356]   \n36845    [0.03252293178013393]   [-2.961940220424107]   \n36846   [0.004954049246651786]   [-3.290858677455357]   \n36847   [0.020010550362723215]   [-3.257969447544643]   \n\n                                signal_wrist_ACC       signal_wrist_BVP  \\\n0      [-0.763671875, -0.076171875, 0.669921875]  [0.13812500000000016]   \n1            [-0.763671875, -0.078125, 0.671875]             [-26.2625]   \n2             [-0.76171875, -0.078125, 0.671875]  [-40.959374999999994]   \n3             [-0.75390625, -0.078125, 0.671875]            [24.173125]   \n4          [-0.76171875, -0.076171875, 0.671875]             [25.78125]   \n...                                          ...                    ...   \n36843    [-0.384765625, -0.0234375, 0.931640625]            [69.639375]   \n36844           [-0.375, -0.015625, 0.939453125]             [-37.3375]   \n36845       [-0.390625, -0.009765625, 0.9296875]    [7.081874999999999]   \n36846       [-0.3828125, -0.0078125, 0.93359375]              [-35.065]   \n36847         [-0.3828125, -0.001953125, 0.9375]   [10.376875000000002]   \n\n       WEIGHT  Gender  AGE  HEIGHT  SKIN  SPORT  \n0        78.0       1   34   182.0     3      6  \n1        78.0       1   34   182.0     3      6  \n2        78.0       1   34   182.0     3      6  \n3        78.0       1   34   182.0     3      6  \n4        78.0       1   34   182.0     3      6  \n...       ...     ...  ...     ...   ...    ...  \n36843    78.0       1   34   182.0     3      6  \n36844    78.0       1   34   182.0     3      6  \n36845    78.0       1   34   182.0     3      6  \n36846    78.0       1   34   182.0     3      6  \n36847    78.0       1   34   182.0     3      6  \n\n[36848 rows x 14 columns]",
      "text/html": "<div>\n<style scoped>\n    .dataframe tbody tr th:only-of-type {\n        vertical-align: middle;\n    }\n\n    .dataframe tbody tr th {\n        vertical-align: top;\n    }\n\n    .dataframe thead th {\n        text-align: right;\n    }\n</style>\n<table border=\"1\" class=\"dataframe\">\n  <thead>\n    <tr style=\"text-align: right;\">\n      <th></th>\n      <th>label</th>\n      <th>activity</th>\n      <th>rpeak</th>\n      <th>signal_chest_ACC</th>\n      <th>signal_chest_ECG</th>\n      <th>signal_chest_Resp</th>\n      <th>signal_wrist_ACC</th>\n      <th>signal_wrist_BVP</th>\n      <th>WEIGHT</th>\n      <th>Gender</th>\n      <th>AGE</th>\n      <th>HEIGHT</th>\n      <th>SKIN</th>\n      <th>SPORT</th>\n    </tr>\n  </thead>\n  <tbody>\n    <tr>\n      <th>0</th>\n      <td>49.611369</td>\n      <td>[0.0]</td>\n      <td>0.000000</td>\n      <td>[0.8521565743855067, -0.06648799930300031, -0....</td>\n      <td>[0.035650111607142855]</td>\n      <td>[4.834437779017857]</td>\n      <td>[-0.763671875, -0.076171875, 0.669921875]</td>\n      <td>[0.13812500000000016]</td>\n      <td>78.0</td>\n      <td>1</td>\n      <td>34</td>\n      <td>182.0</td>\n      <td>3</td>\n      <td>6</td>\n    </tr>\n    <tr>\n      <th>1</th>\n      <td>49.611369</td>\n      <td>[0.0]</td>\n      <td>0.005714</td>\n      <td>[0.8512617124829973, -0.06665485620498657, -0....</td>\n      <td>[0.1031451416015625]</td>\n      <td>[4.238839285714286]</td>\n      <td>[-0.763671875, -0.078125, 0.671875]</td>\n      <td>[-26.2625]</td>\n      <td>78.0</td>\n      <td>1</td>\n      <td>34</td>\n      <td>182.0</td>\n      <td>3</td>\n      <td>6</td>\n    </tr>\n    <tr>\n      <th>2</th>\n      <td>49.611369</td>\n      <td>[0.0]</td>\n      <td>0.000000</td>\n      <td>[0.8515702833448138, -0.06467657225472587, -0....</td>\n      <td>[0.09910112653459821]</td>\n      <td>[2.058558872767857]</td>\n      <td>[-0.76171875, -0.078125, 0.671875]</td>\n      <td>[-40.959374999999994]</td>\n      <td>78.0</td>\n      <td>1</td>\n      <td>34</td>\n      <td>182.0</td>\n      <td>3</td>\n      <td>6</td>\n    </tr>\n    <tr>\n      <th>3</th>\n      <td>49.611369</td>\n      <td>[0.0]</td>\n      <td>0.000000</td>\n      <td>[0.8521417147772653, -0.0654857121195112, -0.3...</td>\n      <td>[-0.17075657435825892]</td>\n      <td>[-0.4639805385044643]</td>\n      <td>[-0.75390625, -0.078125, 0.671875]</td>\n      <td>[24.173125]</td>\n      <td>78.0</td>\n      <td>1</td>\n      <td>34</td>\n      <td>182.0</td>\n      <td>3</td>\n      <td>6</td>\n    </tr>\n    <tr>\n      <th>4</th>\n      <td>49.611369</td>\n      <td>[0.0]</td>\n      <td>0.000000</td>\n      <td>[0.8519577162606375, -0.06589371238436018, -0....</td>\n      <td>[-0.036633387974330356]</td>\n      <td>[-1.8673967633928572]</td>\n      <td>[-0.76171875, -0.076171875, 0.671875]</td>\n      <td>[25.78125]</td>\n      <td>78.0</td>\n      <td>1</td>\n      <td>34</td>\n      <td>182.0</td>\n      <td>3</td>\n      <td>6</td>\n    </tr>\n    <tr>\n      <th>...</th>\n      <td>...</td>\n      <td>...</td>\n      <td>...</td>\n      <td>...</td>\n      <td>...</td>\n      <td>...</td>\n      <td>...</td>\n      <td>...</td>\n      <td>...</td>\n      <td>...</td>\n      <td>...</td>\n      <td>...</td>\n      <td>...</td>\n      <td>...</td>\n    </tr>\n    <tr>\n      <th>36843</th>\n      <td>87.411399</td>\n      <td>[0.0]</td>\n      <td>0.000000</td>\n      <td>[0.8910628577641079, -0.10304685865129744, -0....</td>\n      <td>[-0.09917855398995536]</td>\n      <td>[-1.9022478376116072]</td>\n      <td>[-0.384765625, -0.0234375, 0.931640625]</td>\n      <td>[69.639375]</td>\n      <td>78.0</td>\n      <td>1</td>\n      <td>34</td>\n      <td>182.0</td>\n      <td>3</td>\n      <td>6</td>\n    </tr>\n    <tr>\n      <th>36844</th>\n      <td>87.411399</td>\n      <td>[0.0]</td>\n      <td>0.005714</td>\n      <td>[0.8833097130911691, -0.09567999941962106, -0....</td>\n      <td>[0.03201102120535714]</td>\n      <td>[-2.1953212193080356]</td>\n      <td>[-0.375, -0.015625, 0.939453125]</td>\n      <td>[-37.3375]</td>\n      <td>78.0</td>\n      <td>1</td>\n      <td>34</td>\n      <td>182.0</td>\n      <td>3</td>\n      <td>6</td>\n    </tr>\n    <tr>\n      <th>36845</th>\n      <td>87.411399</td>\n      <td>[0.0]</td>\n      <td>0.000000</td>\n      <td>[0.883172572680882, -0.0954525705746242, -0.28...</td>\n      <td>[0.03252293178013393]</td>\n      <td>[-2.961940220424107]</td>\n      <td>[-0.390625, -0.009765625, 0.9296875]</td>\n      <td>[7.081874999999999]</td>\n      <td>78.0</td>\n      <td>1</td>\n      <td>34</td>\n      <td>182.0</td>\n      <td>3</td>\n      <td>6</td>\n    </tr>\n    <tr>\n      <th>36846</th>\n      <td>87.411399</td>\n      <td>[0.0]</td>\n      <td>0.005714</td>\n      <td>[0.8836045742034913, -0.10012685707637242, -0....</td>\n      <td>[0.004954049246651786]</td>\n      <td>[-3.290858677455357]</td>\n      <td>[-0.3828125, -0.0078125, 0.93359375]</td>\n      <td>[-35.065]</td>\n      <td>78.0</td>\n      <td>1</td>\n      <td>34</td>\n      <td>182.0</td>\n      <td>3</td>\n      <td>6</td>\n    </tr>\n    <tr>\n      <th>36847</th>\n      <td>87.411399</td>\n      <td>[0.0]</td>\n      <td>0.000000</td>\n      <td>[0.8836388533455984, -0.10038971287863595, -0....</td>\n      <td>[0.020010550362723215]</td>\n      <td>[-3.257969447544643]</td>\n      <td>[-0.3828125, -0.001953125, 0.9375]</td>\n      <td>[10.376875000000002]</td>\n      <td>78.0</td>\n      <td>1</td>\n      <td>34</td>\n      <td>182.0</td>\n      <td>3</td>\n      <td>6</td>\n    </tr>\n  </tbody>\n</table>\n<p>36848 rows × 14 columns</p>\n</div>"
     },
     "metadata": {},
     "output_type": "execute_result",
     "execution_count": 15
    }
   ],
   "source": [
    "full_df"
   ],
   "metadata": {
    "collapsed": false,
    "pycharm": {
     "name": "#%%\n",
     "is_executing": false
    }
   }
  },
  {
   "cell_type": "code",
   "execution_count": 16,
   "outputs": [],
   "source": [
    "for i in range(2, 16):\n",
    "    full_df = full_df.append(pretreatment(pd.read_pickle(\"./src/model/data/S\" + str(i) + \"/S\" + str(i) + \".pkl\")), ignore_index=True)\n",
    "    "
   ],
   "metadata": {
    "collapsed": false,
    "pycharm": {
     "name": "#%%\n",
     "is_executing": false
    }
   }
  },
  {
   "cell_type": "markdown",
   "source": [
    "On sauvegarde le dataframe complet pour éviter de perdre du temps"
   ],
   "metadata": {
    "collapsed": false,
    "pycharm": {
     "name": "#%% md\n"
    }
   }
  },
  {
   "cell_type": "code",
   "execution_count": 17,
   "outputs": [],
   "source": [
    "full_df.to_pickle('full_df.pkl')"
   ],
   "metadata": {
    "collapsed": false,
    "pycharm": {
     "name": "#%%\n",
     "is_executing": false
    }
   }
  },
  {
   "cell_type": "markdown",
   "source": [
    "Un peu d'exploration maintenant\n",
    "(la ligne suivante permet d'éviter le prétraitement"
   ],
   "metadata": {
    "collapsed": false,
    "pycharm": {
     "name": "#%% md\n"
    }
   }
  },
  {
   "cell_type": "code",
   "execution_count": 3,
   "outputs": [],
   "source": [
    "full_df = pd.read_pickle(\"full_df.pkl\")"
   ],
   "metadata": {
    "collapsed": false,
    "pycharm": {
     "name": "#%%\n",
     "is_executing": false
    }
   }
  },
  {
   "cell_type": "code",
   "execution_count": 14,
   "outputs": [
    {
     "data": {
      "text/plain": "            label activity     rpeak  \\\n0       49.611369    [0.0]  0.000000   \n1       49.611369    [0.0]  0.005714   \n2       49.611369    [0.0]  0.000000   \n3       49.611369    [0.0]  0.000000   \n4       49.611369    [0.0]  0.000000   \n...           ...      ...       ...   \n517951  80.853007    [0.0]  0.000000   \n517952  80.853007    [0.0]  0.005714   \n517953  80.853007    [0.0]  0.000000   \n517954  80.853007    [0.0]  0.000000   \n517955  80.853007    [0.0]  0.005714   \n\n                                         signal_chest_ACC  \\\n0       [0.8521565743855067, -0.06648799930300031, -0....   \n1       [0.8512617124829973, -0.06665485620498657, -0....   \n2       [0.8515702833448138, -0.06467657225472587, -0....   \n3       [0.8521417147772653, -0.0654857121195112, -0.3...   \n4       [0.8519577162606375, -0.06589371238436018, -0....   \n...                                                   ...   \n517951  [0.8911371496745518, -0.0037439983231680736, -...   \n517952  [0.899386283329555, -0.015862856251852853, -0....   \n517953  [0.9037325688770839, -0.007828574180603027, -0...   \n517954  [0.8894697209766933, 0.015501715455736432, -0....   \n517955  [0.9024102858134678, 0.01936457327433995, -0.1...   \n\n               signal_chest_ECG      signal_chest_Resp  \\\n0        [0.035650111607142855]    [4.834437779017857]   \n1          [0.1031451416015625]    [4.238839285714286]   \n2         [0.09910112653459821]    [2.058558872767857]   \n3        [-0.17075657435825892]  [-0.4639805385044643]   \n4       [-0.036633387974330356]  [-1.8673967633928572]   \n...                         ...                    ...   \n517951   [-0.15363987513950894]   [1.6646379743303572]   \n517952  [-0.007924281529017857]    [-0.33868408203125]   \n517953    [0.11791495186941964]  [-1.6160975864955358]   \n517954   [-0.18422816685267857]  [-2.4030587332589284]   \n517955   [-0.00844691685267857]  [-2.0136195591517856]   \n\n                                 signal_wrist_ACC       signal_wrist_BVP  \\\n0       [-0.763671875, -0.076171875, 0.669921875]  [0.13812500000000016]   \n1             [-0.763671875, -0.078125, 0.671875]             [-26.2625]   \n2              [-0.76171875, -0.078125, 0.671875]  [-40.959374999999994]   \n3              [-0.75390625, -0.078125, 0.671875]            [24.173125]   \n4           [-0.76171875, -0.076171875, 0.671875]             [25.78125]   \n...                                           ...                    ...   \n517951          [-0.515625, 0.86328125, 0.140625]  [-19.654999999999998]   \n517952        [-0.65625, 0.716796875, -0.3046875]   [21.031249999999996]   \n517953      [-0.44921875, 0.474609375, -0.671875]             [9.114375]   \n517954     [-0.404296875, 0.328125, -0.841796875]  [-24.615624999999998]   \n517955          [-0.28125, 0.283203125, -0.90625]   [22.134374999999995]   \n\n        WEIGHT  Gender  AGE  HEIGHT  SKIN  SPORT  \n0         78.0       1   34   182.0     3      6  \n1         78.0       1   34   182.0     3      6  \n2         78.0       1   34   182.0     3      6  \n3         78.0       1   34   182.0     3      6  \n4         78.0       1   34   182.0     3      6  \n...        ...     ...  ...     ...   ...    ...  \n517951    79.0       1   28   183.0     2      5  \n517952    79.0       1   28   183.0     2      5  \n517953    79.0       1   28   183.0     2      5  \n517954    79.0       1   28   183.0     2      5  \n517955    79.0       1   28   183.0     2      5  \n\n[517956 rows x 14 columns]",
      "text/html": "<div>\n<style scoped>\n    .dataframe tbody tr th:only-of-type {\n        vertical-align: middle;\n    }\n\n    .dataframe tbody tr th {\n        vertical-align: top;\n    }\n\n    .dataframe thead th {\n        text-align: right;\n    }\n</style>\n<table border=\"1\" class=\"dataframe\">\n  <thead>\n    <tr style=\"text-align: right;\">\n      <th></th>\n      <th>label</th>\n      <th>activity</th>\n      <th>rpeak</th>\n      <th>signal_chest_ACC</th>\n      <th>signal_chest_ECG</th>\n      <th>signal_chest_Resp</th>\n      <th>signal_wrist_ACC</th>\n      <th>signal_wrist_BVP</th>\n      <th>WEIGHT</th>\n      <th>Gender</th>\n      <th>AGE</th>\n      <th>HEIGHT</th>\n      <th>SKIN</th>\n      <th>SPORT</th>\n    </tr>\n  </thead>\n  <tbody>\n    <tr>\n      <th>0</th>\n      <td>49.611369</td>\n      <td>[0.0]</td>\n      <td>0.000000</td>\n      <td>[0.8521565743855067, -0.06648799930300031, -0....</td>\n      <td>[0.035650111607142855]</td>\n      <td>[4.834437779017857]</td>\n      <td>[-0.763671875, -0.076171875, 0.669921875]</td>\n      <td>[0.13812500000000016]</td>\n      <td>78.0</td>\n      <td>1</td>\n      <td>34</td>\n      <td>182.0</td>\n      <td>3</td>\n      <td>6</td>\n    </tr>\n    <tr>\n      <th>1</th>\n      <td>49.611369</td>\n      <td>[0.0]</td>\n      <td>0.005714</td>\n      <td>[0.8512617124829973, -0.06665485620498657, -0....</td>\n      <td>[0.1031451416015625]</td>\n      <td>[4.238839285714286]</td>\n      <td>[-0.763671875, -0.078125, 0.671875]</td>\n      <td>[-26.2625]</td>\n      <td>78.0</td>\n      <td>1</td>\n      <td>34</td>\n      <td>182.0</td>\n      <td>3</td>\n      <td>6</td>\n    </tr>\n    <tr>\n      <th>2</th>\n      <td>49.611369</td>\n      <td>[0.0]</td>\n      <td>0.000000</td>\n      <td>[0.8515702833448138, -0.06467657225472587, -0....</td>\n      <td>[0.09910112653459821]</td>\n      <td>[2.058558872767857]</td>\n      <td>[-0.76171875, -0.078125, 0.671875]</td>\n      <td>[-40.959374999999994]</td>\n      <td>78.0</td>\n      <td>1</td>\n      <td>34</td>\n      <td>182.0</td>\n      <td>3</td>\n      <td>6</td>\n    </tr>\n    <tr>\n      <th>3</th>\n      <td>49.611369</td>\n      <td>[0.0]</td>\n      <td>0.000000</td>\n      <td>[0.8521417147772653, -0.0654857121195112, -0.3...</td>\n      <td>[-0.17075657435825892]</td>\n      <td>[-0.4639805385044643]</td>\n      <td>[-0.75390625, -0.078125, 0.671875]</td>\n      <td>[24.173125]</td>\n      <td>78.0</td>\n      <td>1</td>\n      <td>34</td>\n      <td>182.0</td>\n      <td>3</td>\n      <td>6</td>\n    </tr>\n    <tr>\n      <th>4</th>\n      <td>49.611369</td>\n      <td>[0.0]</td>\n      <td>0.000000</td>\n      <td>[0.8519577162606375, -0.06589371238436018, -0....</td>\n      <td>[-0.036633387974330356]</td>\n      <td>[-1.8673967633928572]</td>\n      <td>[-0.76171875, -0.076171875, 0.671875]</td>\n      <td>[25.78125]</td>\n      <td>78.0</td>\n      <td>1</td>\n      <td>34</td>\n      <td>182.0</td>\n      <td>3</td>\n      <td>6</td>\n    </tr>\n    <tr>\n      <th>...</th>\n      <td>...</td>\n      <td>...</td>\n      <td>...</td>\n      <td>...</td>\n      <td>...</td>\n      <td>...</td>\n      <td>...</td>\n      <td>...</td>\n      <td>...</td>\n      <td>...</td>\n      <td>...</td>\n      <td>...</td>\n      <td>...</td>\n      <td>...</td>\n    </tr>\n    <tr>\n      <th>517951</th>\n      <td>80.853007</td>\n      <td>[0.0]</td>\n      <td>0.000000</td>\n      <td>[0.8911371496745518, -0.0037439983231680736, -...</td>\n      <td>[-0.15363987513950894]</td>\n      <td>[1.6646379743303572]</td>\n      <td>[-0.515625, 0.86328125, 0.140625]</td>\n      <td>[-19.654999999999998]</td>\n      <td>79.0</td>\n      <td>1</td>\n      <td>28</td>\n      <td>183.0</td>\n      <td>2</td>\n      <td>5</td>\n    </tr>\n    <tr>\n      <th>517952</th>\n      <td>80.853007</td>\n      <td>[0.0]</td>\n      <td>0.005714</td>\n      <td>[0.899386283329555, -0.015862856251852853, -0....</td>\n      <td>[-0.007924281529017857]</td>\n      <td>[-0.33868408203125]</td>\n      <td>[-0.65625, 0.716796875, -0.3046875]</td>\n      <td>[21.031249999999996]</td>\n      <td>79.0</td>\n      <td>1</td>\n      <td>28</td>\n      <td>183.0</td>\n      <td>2</td>\n      <td>5</td>\n    </tr>\n    <tr>\n      <th>517953</th>\n      <td>80.853007</td>\n      <td>[0.0]</td>\n      <td>0.000000</td>\n      <td>[0.9037325688770839, -0.007828574180603027, -0...</td>\n      <td>[0.11791495186941964]</td>\n      <td>[-1.6160975864955358]</td>\n      <td>[-0.44921875, 0.474609375, -0.671875]</td>\n      <td>[9.114375]</td>\n      <td>79.0</td>\n      <td>1</td>\n      <td>28</td>\n      <td>183.0</td>\n      <td>2</td>\n      <td>5</td>\n    </tr>\n    <tr>\n      <th>517954</th>\n      <td>80.853007</td>\n      <td>[0.0]</td>\n      <td>0.000000</td>\n      <td>[0.8894697209766933, 0.015501715455736432, -0....</td>\n      <td>[-0.18422816685267857]</td>\n      <td>[-2.4030587332589284]</td>\n      <td>[-0.404296875, 0.328125, -0.841796875]</td>\n      <td>[-24.615624999999998]</td>\n      <td>79.0</td>\n      <td>1</td>\n      <td>28</td>\n      <td>183.0</td>\n      <td>2</td>\n      <td>5</td>\n    </tr>\n    <tr>\n      <th>517955</th>\n      <td>80.853007</td>\n      <td>[0.0]</td>\n      <td>0.005714</td>\n      <td>[0.9024102858134678, 0.01936457327433995, -0.1...</td>\n      <td>[-0.00844691685267857]</td>\n      <td>[-2.0136195591517856]</td>\n      <td>[-0.28125, 0.283203125, -0.90625]</td>\n      <td>[22.134374999999995]</td>\n      <td>79.0</td>\n      <td>1</td>\n      <td>28</td>\n      <td>183.0</td>\n      <td>2</td>\n      <td>5</td>\n    </tr>\n  </tbody>\n</table>\n<p>517956 rows × 14 columns</p>\n</div>"
     },
     "metadata": {},
     "output_type": "execute_result",
     "execution_count": 14
    }
   ],
   "source": [
    "full_df"
   ],
   "metadata": {
    "collapsed": false,
    "pycharm": {
     "name": "#%%\n",
     "is_executing": false
    }
   }
  },
  {
   "cell_type": "code",
   "execution_count": 18,
   "outputs": [
    {
     "data": {
      "text/plain": "<Figure size 1080x1080 with 2 Axes>",
      "image/png": "[encoded data removed]"
     },
     "metadata": {
      "needs_background": "light"
     },
     "output_type": "display_data"
    }
   ],
   "source": [
    "import matplotlib.pyplot as plt\n",
    "\n",
    "correlations = full_df.corr()\n",
    "fig = plt.figure(figsize=(15, 15))\n",
    "ax = fig.add_subplot(111)\n",
    "cax = ax.matshow(correlations, vmin=-1, vmax=1)\n",
    "\n",
    "fig.colorbar(cax)\n",
    "ticks = np.arange(0,15,1)\n",
    "\n",
    "ax.set_xticks(ticks)\n",
    "ax.set_yticks(ticks)\n",
    "\n",
    "ax.set_xticklabels(full_df.columns, rotation=45)\n",
    "ax.set_yticklabels(full_df.columns)\n",
    "\n",
    "plt.show()\n"
   ],
   "metadata": {
    "collapsed": false,
    "pycharm": {
     "name": "#%%\n",
     "is_executing": false
    }
   }
  },
  {
   "cell_type": "markdown",
   "source": [
    "## Creation de modèles"
   ],
   "metadata": {
    "collapsed": false,
    "pycharm": {
     "name": "#%% md\n"
    }
   }
  },
  {
   "cell_type": "code",
   "execution_count": 20,
   "outputs": [],
   "source": [
    "from sklearn.model_selection import train_test_split\n",
    "y = full_df['activity']\n",
    "x = full_df.drop(columns=['activity'])\n",
    "feature = x.columns\n",
    "x_train, x_test, y_train, y_test = train_test_split(x, y, test_size = 0.2, random_state = 92)"
   ],
   "metadata": {
    "collapsed": false,
    "pycharm": {
     "name": "#%%\n",
     "is_executing": false
    }
   }
  },
  {
   "cell_type": "markdown",
   "source": [
    "Arbre de décision"
   ],
   "metadata": {
    "collapsed": false,
    "pycharm": {
     "name": "#%% md\n"
    }
   }
  },
  {
   "cell_type": "code",
   "execution_count": 23,
   "outputs": [
    {
     "traceback": [
      "\u001b[0;31m---------------------------------------------------------------------------\u001b[0m",
      "\u001b[0;31mValueError\u001b[0m                                Traceback (most recent call last)",
      "\u001b[0;32m<ipython-input-23-a41cc02d64dc>\u001b[0m in \u001b[0;36m<module>\u001b[0;34m\u001b[0m\n\u001b[1;32m      2\u001b[0m \u001b[0;34m\u001b[0m\u001b[0m\n\u001b[1;32m      3\u001b[0m \u001b[0mtree\u001b[0m \u001b[0;34m=\u001b[0m \u001b[0mDecisionTreeClassifier\u001b[0m\u001b[0;34m(\u001b[0m\u001b[0mrandom_state\u001b[0m\u001b[0;34m=\u001b[0m\u001b[0;36m42\u001b[0m\u001b[0;34m)\u001b[0m\u001b[0;34m\u001b[0m\u001b[0;34m\u001b[0m\u001b[0m\n\u001b[0;32m----> 4\u001b[0;31m \u001b[0mtree\u001b[0m\u001b[0;34m.\u001b[0m\u001b[0mfit\u001b[0m\u001b[0;34m(\u001b[0m\u001b[0mx_train\u001b[0m\u001b[0;34m,\u001b[0m \u001b[0my_train\u001b[0m\u001b[0;34m)\u001b[0m\u001b[0;34m\u001b[0m\u001b[0;34m\u001b[0m\u001b[0m\n\u001b[0m\u001b[1;32m      5\u001b[0m \u001b[0;34m\u001b[0m\u001b[0m\n",
      "\u001b[0;32m/usr/local/lib/python3.7/dist-packages/sklearn/tree/tree.py\u001b[0m in \u001b[0;36mfit\u001b[0;34m(self, X, y, sample_weight, check_input, X_idx_sorted)\u001b[0m\n\u001b[1;32m    814\u001b[0m             \u001b[0msample_weight\u001b[0m\u001b[0;34m=\u001b[0m\u001b[0msample_weight\u001b[0m\u001b[0;34m,\u001b[0m\u001b[0;34m\u001b[0m\u001b[0;34m\u001b[0m\u001b[0m\n\u001b[1;32m    815\u001b[0m             \u001b[0mcheck_input\u001b[0m\u001b[0;34m=\u001b[0m\u001b[0mcheck_input\u001b[0m\u001b[0;34m,\u001b[0m\u001b[0;34m\u001b[0m\u001b[0;34m\u001b[0m\u001b[0m\n\u001b[0;32m--> 816\u001b[0;31m             X_idx_sorted=X_idx_sorted)\n\u001b[0m\u001b[1;32m    817\u001b[0m         \u001b[0;32mreturn\u001b[0m \u001b[0mself\u001b[0m\u001b[0;34m\u001b[0m\u001b[0;34m\u001b[0m\u001b[0m\n\u001b[1;32m    818\u001b[0m \u001b[0;34m\u001b[0m\u001b[0m\n",
      "\u001b[0;32m/usr/local/lib/python3.7/dist-packages/sklearn/tree/tree.py\u001b[0m in \u001b[0;36mfit\u001b[0;34m(self, X, y, sample_weight, check_input, X_idx_sorted)\u001b[0m\n\u001b[1;32m    128\u001b[0m         \u001b[0mrandom_state\u001b[0m \u001b[0;34m=\u001b[0m \u001b[0mcheck_random_state\u001b[0m\u001b[0;34m(\u001b[0m\u001b[0mself\u001b[0m\u001b[0;34m.\u001b[0m\u001b[0mrandom_state\u001b[0m\u001b[0;34m)\u001b[0m\u001b[0;34m\u001b[0m\u001b[0;34m\u001b[0m\u001b[0m\n\u001b[1;32m    129\u001b[0m         \u001b[0;32mif\u001b[0m \u001b[0mcheck_input\u001b[0m\u001b[0;34m:\u001b[0m\u001b[0;34m\u001b[0m\u001b[0;34m\u001b[0m\u001b[0m\n\u001b[0;32m--> 130\u001b[0;31m             \u001b[0mX\u001b[0m \u001b[0;34m=\u001b[0m \u001b[0mcheck_array\u001b[0m\u001b[0;34m(\u001b[0m\u001b[0mX\u001b[0m\u001b[0;34m,\u001b[0m \u001b[0mdtype\u001b[0m\u001b[0;34m=\u001b[0m\u001b[0mDTYPE\u001b[0m\u001b[0;34m,\u001b[0m \u001b[0maccept_sparse\u001b[0m\u001b[0;34m=\u001b[0m\u001b[0;34m\"csc\"\u001b[0m\u001b[0;34m)\u001b[0m\u001b[0;34m\u001b[0m\u001b[0;34m\u001b[0m\u001b[0m\n\u001b[0m\u001b[1;32m    131\u001b[0m             \u001b[0my\u001b[0m \u001b[0;34m=\u001b[0m \u001b[0mcheck_array\u001b[0m\u001b[0;34m(\u001b[0m\u001b[0my\u001b[0m\u001b[0;34m,\u001b[0m \u001b[0mensure_2d\u001b[0m\u001b[0;34m=\u001b[0m\u001b[0;32mFalse\u001b[0m\u001b[0;34m,\u001b[0m \u001b[0mdtype\u001b[0m\u001b[0;34m=\u001b[0m\u001b[0;32mNone\u001b[0m\u001b[0;34m)\u001b[0m\u001b[0;34m\u001b[0m\u001b[0;34m\u001b[0m\u001b[0m\n\u001b[1;32m    132\u001b[0m             \u001b[0;32mif\u001b[0m \u001b[0missparse\u001b[0m\u001b[0;34m(\u001b[0m\u001b[0mX\u001b[0m\u001b[0;34m)\u001b[0m\u001b[0;34m:\u001b[0m\u001b[0;34m\u001b[0m\u001b[0;34m\u001b[0m\u001b[0m\n",
      "\u001b[0;32m/usr/local/lib/python3.7/dist-packages/sklearn/utils/validation.py\u001b[0m in \u001b[0;36mcheck_array\u001b[0;34m(array, accept_sparse, accept_large_sparse, dtype, order, copy, force_all_finite, ensure_2d, allow_nd, ensure_min_samples, ensure_min_features, warn_on_dtype, estimator)\u001b[0m\n\u001b[1;32m    494\u001b[0m             \u001b[0;32mtry\u001b[0m\u001b[0;34m:\u001b[0m\u001b[0;34m\u001b[0m\u001b[0;34m\u001b[0m\u001b[0m\n\u001b[1;32m    495\u001b[0m                 \u001b[0mwarnings\u001b[0m\u001b[0;34m.\u001b[0m\u001b[0msimplefilter\u001b[0m\u001b[0;34m(\u001b[0m\u001b[0;34m'error'\u001b[0m\u001b[0;34m,\u001b[0m \u001b[0mComplexWarning\u001b[0m\u001b[0;34m)\u001b[0m\u001b[0;34m\u001b[0m\u001b[0;34m\u001b[0m\u001b[0m\n\u001b[0;32m--> 496\u001b[0;31m                 \u001b[0marray\u001b[0m \u001b[0;34m=\u001b[0m \u001b[0mnp\u001b[0m\u001b[0;34m.\u001b[0m\u001b[0masarray\u001b[0m\u001b[0;34m(\u001b[0m\u001b[0marray\u001b[0m\u001b[0;34m,\u001b[0m \u001b[0mdtype\u001b[0m\u001b[0;34m=\u001b[0m\u001b[0mdtype\u001b[0m\u001b[0;34m,\u001b[0m \u001b[0morder\u001b[0m\u001b[0;34m=\u001b[0m\u001b[0morder\u001b[0m\u001b[0;34m)\u001b[0m\u001b[0;34m\u001b[0m\u001b[0;34m\u001b[0m\u001b[0m\n\u001b[0m\u001b[1;32m    497\u001b[0m             \u001b[0;32mexcept\u001b[0m \u001b[0mComplexWarning\u001b[0m\u001b[0;34m:\u001b[0m\u001b[0;34m\u001b[0m\u001b[0;34m\u001b[0m\u001b[0m\n\u001b[1;32m    498\u001b[0m                 raise ValueError(\"Complex data not supported\\n\"\n",
      "\u001b[0;32m~/.local/lib/python3.7/site-packages/numpy/core/_asarray.py\u001b[0m in \u001b[0;36masarray\u001b[0;34m(a, dtype, order)\u001b[0m\n\u001b[1;32m     83\u001b[0m \u001b[0;34m\u001b[0m\u001b[0m\n\u001b[1;32m     84\u001b[0m     \"\"\"\n\u001b[0;32m---> 85\u001b[0;31m     \u001b[0;32mreturn\u001b[0m \u001b[0marray\u001b[0m\u001b[0;34m(\u001b[0m\u001b[0ma\u001b[0m\u001b[0;34m,\u001b[0m \u001b[0mdtype\u001b[0m\u001b[0;34m,\u001b[0m \u001b[0mcopy\u001b[0m\u001b[0;34m=\u001b[0m\u001b[0;32mFalse\u001b[0m\u001b[0;34m,\u001b[0m \u001b[0morder\u001b[0m\u001b[0;34m=\u001b[0m\u001b[0morder\u001b[0m\u001b[0;34m)\u001b[0m\u001b[0;34m\u001b[0m\u001b[0;34m\u001b[0m\u001b[0m\n\u001b[0m\u001b[1;32m     86\u001b[0m \u001b[0;34m\u001b[0m\u001b[0m\n\u001b[1;32m     87\u001b[0m \u001b[0;34m\u001b[0m\u001b[0m\n",
      "\u001b[0;31mValueError\u001b[0m: setting an array element with a sequence."
     ],
     "ename": "ValueError",
     "evalue": "setting an array element with a sequence.",
     "output_type": "error"
    }
   ],
   "source": [
    "from sklearn.tree import DecisionTreeClassifier\n",
    "\n",
    "tree = DecisionTreeClassifier(random_state=92)\n",
    "tree.fit(x_train, y_train)"
   ],
   "metadata": {
    "collapsed": false,
    "pycharm": {
     "name": "#%%\n",
     "is_executing": false
    }
   }
  },
  {
   "cell_type": "code",
   "execution_count": null,
   "outputs": [],
   "source": [
    "y_pred_tree = tree.predict(x_test)"
   ],
   "metadata": {
    "collapsed": false,
    "pycharm": {
     "name": "#%%\n"
    }
   }
  },
  {
   "cell_type": "code",
   "execution_count": 25,
   "outputs": [
    {
     "name": "stderr",
     "text": [
      "/usr/local/lib/python3.7/dist-packages/sklearn/linear_model/logistic.py:432: FutureWarning: Default solver will be changed to 'lbfgs' in 0.22. Specify a solver to silence this warning.\n",
      "  FutureWarning)\n"
     ],
     "output_type": "stream"
    },
    {
     "traceback": [
      "\u001b[0;31m---------------------------------------------------------------------------\u001b[0m",
      "\u001b[0;31mValueError\u001b[0m                                Traceback (most recent call last)",
      "\u001b[0;32m<ipython-input-25-c06eef1d903d>\u001b[0m in \u001b[0;36m<module>\u001b[0;34m\u001b[0m\n\u001b[1;32m      2\u001b[0m \u001b[0;34m\u001b[0m\u001b[0m\n\u001b[1;32m      3\u001b[0m \u001b[0mlr\u001b[0m \u001b[0;34m=\u001b[0m \u001b[0mLogisticRegression\u001b[0m\u001b[0;34m(\u001b[0m\u001b[0;34m)\u001b[0m\u001b[0;34m\u001b[0m\u001b[0;34m\u001b[0m\u001b[0m\n\u001b[0;32m----> 4\u001b[0;31m \u001b[0mlr\u001b[0m\u001b[0;34m.\u001b[0m\u001b[0mfit\u001b[0m\u001b[0;34m(\u001b[0m\u001b[0mx_train\u001b[0m\u001b[0;34m,\u001b[0m \u001b[0my_train\u001b[0m\u001b[0;34m)\u001b[0m\u001b[0;34m\u001b[0m\u001b[0;34m\u001b[0m\u001b[0m\n\u001b[0m\u001b[1;32m      5\u001b[0m \u001b[0;34m\u001b[0m\u001b[0m\n\u001b[1;32m      6\u001b[0m \u001b[0;31m#\u001b[0m\u001b[0;34m\u001b[0m\u001b[0;34m\u001b[0m\u001b[0;34m\u001b[0m\u001b[0m\n",
      "\u001b[0;32m/usr/local/lib/python3.7/dist-packages/sklearn/linear_model/logistic.py\u001b[0m in \u001b[0;36mfit\u001b[0;34m(self, X, y, sample_weight)\u001b[0m\n\u001b[1;32m   1530\u001b[0m \u001b[0;34m\u001b[0m\u001b[0m\n\u001b[1;32m   1531\u001b[0m         X, y = check_X_y(X, y, accept_sparse='csr', dtype=_dtype, order=\"C\",\n\u001b[0;32m-> 1532\u001b[0;31m                          accept_large_sparse=solver != 'liblinear')\n\u001b[0m\u001b[1;32m   1533\u001b[0m         \u001b[0mcheck_classification_targets\u001b[0m\u001b[0;34m(\u001b[0m\u001b[0my\u001b[0m\u001b[0;34m)\u001b[0m\u001b[0;34m\u001b[0m\u001b[0;34m\u001b[0m\u001b[0m\n\u001b[1;32m   1534\u001b[0m         \u001b[0mself\u001b[0m\u001b[0;34m.\u001b[0m\u001b[0mclasses_\u001b[0m \u001b[0;34m=\u001b[0m \u001b[0mnp\u001b[0m\u001b[0;34m.\u001b[0m\u001b[0munique\u001b[0m\u001b[0;34m(\u001b[0m\u001b[0my\u001b[0m\u001b[0;34m)\u001b[0m\u001b[0;34m\u001b[0m\u001b[0;34m\u001b[0m\u001b[0m\n",
      "\u001b[0;32m/usr/local/lib/python3.7/dist-packages/sklearn/utils/validation.py\u001b[0m in \u001b[0;36mcheck_X_y\u001b[0;34m(X, y, accept_sparse, accept_large_sparse, dtype, order, copy, force_all_finite, ensure_2d, allow_nd, multi_output, ensure_min_samples, ensure_min_features, y_numeric, warn_on_dtype, estimator)\u001b[0m\n\u001b[1;32m    717\u001b[0m                     \u001b[0mensure_min_features\u001b[0m\u001b[0;34m=\u001b[0m\u001b[0mensure_min_features\u001b[0m\u001b[0;34m,\u001b[0m\u001b[0;34m\u001b[0m\u001b[0;34m\u001b[0m\u001b[0m\n\u001b[1;32m    718\u001b[0m                     \u001b[0mwarn_on_dtype\u001b[0m\u001b[0;34m=\u001b[0m\u001b[0mwarn_on_dtype\u001b[0m\u001b[0;34m,\u001b[0m\u001b[0;34m\u001b[0m\u001b[0;34m\u001b[0m\u001b[0m\n\u001b[0;32m--> 719\u001b[0;31m                     estimator=estimator)\n\u001b[0m\u001b[1;32m    720\u001b[0m     \u001b[0;32mif\u001b[0m \u001b[0mmulti_output\u001b[0m\u001b[0;34m:\u001b[0m\u001b[0;34m\u001b[0m\u001b[0;34m\u001b[0m\u001b[0m\n\u001b[1;32m    721\u001b[0m         y = check_array(y, 'csr', force_all_finite=True, ensure_2d=False,\n",
      "\u001b[0;32m/usr/local/lib/python3.7/dist-packages/sklearn/utils/validation.py\u001b[0m in \u001b[0;36mcheck_array\u001b[0;34m(array, accept_sparse, accept_large_sparse, dtype, order, copy, force_all_finite, ensure_2d, allow_nd, ensure_min_samples, ensure_min_features, warn_on_dtype, estimator)\u001b[0m\n\u001b[1;32m    494\u001b[0m             \u001b[0;32mtry\u001b[0m\u001b[0;34m:\u001b[0m\u001b[0;34m\u001b[0m\u001b[0;34m\u001b[0m\u001b[0m\n\u001b[1;32m    495\u001b[0m                 \u001b[0mwarnings\u001b[0m\u001b[0;34m.\u001b[0m\u001b[0msimplefilter\u001b[0m\u001b[0;34m(\u001b[0m\u001b[0;34m'error'\u001b[0m\u001b[0;34m,\u001b[0m \u001b[0mComplexWarning\u001b[0m\u001b[0;34m)\u001b[0m\u001b[0;34m\u001b[0m\u001b[0;34m\u001b[0m\u001b[0m\n\u001b[0;32m--> 496\u001b[0;31m                 \u001b[0marray\u001b[0m \u001b[0;34m=\u001b[0m \u001b[0mnp\u001b[0m\u001b[0;34m.\u001b[0m\u001b[0masarray\u001b[0m\u001b[0;34m(\u001b[0m\u001b[0marray\u001b[0m\u001b[0;34m,\u001b[0m \u001b[0mdtype\u001b[0m\u001b[0;34m=\u001b[0m\u001b[0mdtype\u001b[0m\u001b[0;34m,\u001b[0m \u001b[0morder\u001b[0m\u001b[0;34m=\u001b[0m\u001b[0morder\u001b[0m\u001b[0;34m)\u001b[0m\u001b[0;34m\u001b[0m\u001b[0;34m\u001b[0m\u001b[0m\n\u001b[0m\u001b[1;32m    497\u001b[0m             \u001b[0;32mexcept\u001b[0m \u001b[0mComplexWarning\u001b[0m\u001b[0;34m:\u001b[0m\u001b[0;34m\u001b[0m\u001b[0;34m\u001b[0m\u001b[0m\n\u001b[1;32m    498\u001b[0m                 raise ValueError(\"Complex data not supported\\n\"\n",
      "\u001b[0;32m~/.local/lib/python3.7/site-packages/numpy/core/_asarray.py\u001b[0m in \u001b[0;36masarray\u001b[0;34m(a, dtype, order)\u001b[0m\n\u001b[1;32m     83\u001b[0m \u001b[0;34m\u001b[0m\u001b[0m\n\u001b[1;32m     84\u001b[0m     \"\"\"\n\u001b[0;32m---> 85\u001b[0;31m     \u001b[0;32mreturn\u001b[0m \u001b[0marray\u001b[0m\u001b[0;34m(\u001b[0m\u001b[0ma\u001b[0m\u001b[0;34m,\u001b[0m \u001b[0mdtype\u001b[0m\u001b[0;34m,\u001b[0m \u001b[0mcopy\u001b[0m\u001b[0;34m=\u001b[0m\u001b[0;32mFalse\u001b[0m\u001b[0;34m,\u001b[0m \u001b[0morder\u001b[0m\u001b[0;34m=\u001b[0m\u001b[0morder\u001b[0m\u001b[0;34m)\u001b[0m\u001b[0;34m\u001b[0m\u001b[0;34m\u001b[0m\u001b[0m\n\u001b[0m\u001b[1;32m     86\u001b[0m \u001b[0;34m\u001b[0m\u001b[0m\n\u001b[1;32m     87\u001b[0m \u001b[0;34m\u001b[0m\u001b[0m\n",
      "\u001b[0;31mValueError\u001b[0m: setting an array element with a sequence."
     ],
     "ename": "ValueError",
     "evalue": "setting an array element with a sequence.",
     "output_type": "error"
    }
   ],
   "source": [
    "from sklearn.linear_model import LogisticRegression\n",
    "\n",
    "lr = LogisticRegression()\n",
    "lr.fit(x_train, y_train)\n",
    "\n",
    "#\n",
    "y_pred = lr.predict(x_test)"
   ],
   "metadata": {
    "collapsed": false,
    "pycharm": {
     "name": "#%%\n",
     "is_executing": false
    }
   }
  }
 ],
 "metadata": {
  "kernelspec": {
   "name": "pycharm-957dced",
   "language": "python",
   "display_name": "PyCharm (KerasObjectDetector)"
  },
  "language_info": {
   "codemirror_mode": {
    "name": "ipython",
    "version": 2
   },
   "file_extension": ".py",
   "mimetype": "text/x-python",
   "name": "python",
   "nbconvert_exporter": "python",
   "pygments_lexer": "ipython2",
   "version": "2.7.6"
  },
  "pycharm": {
   "stem_cell": {
    "cell_type": "raw",
    "source": [],
    "metadata": {
     "collapsed": false
    }
   }
  }
 },
 "nbformat": 4,
 "nbformat_minor": 0
}