{
 "cells": [
  {
   "cell_type": "markdown",
   "source": [
    "# Data exploration &  pré-processing"
   ],
   "metadata": {
    "collapsed": false
   }
  },
  {
   "cell_type": "code",
   "execution_count": 11,
   "metadata": {
    "collapsed": true,
    "pycharm": {
     "is_executing": false
    }
   },
   "outputs": [],
   "source": [
    "import pandas as pd\n",
    "patient = pd.read_pickle(\"../src/model/data/S2/S2.pkl\")\n",
    "s1_activity = pd.read_csv(\"../src/model/data/S2/S2_activity.csv\")"
   ]
  },
  {
   "cell_type": "code",
   "execution_count": null,
   "outputs": [],
   "source": [
    "type(s1_df)\n",
    "s1_keys = s1_df.keys()"
   ],
   "metadata": {
    "collapsed": false,
    "pycharm": {
     "name": "#%%\n"
    }
   }
  },
  {
   "cell_type": "markdown",
   "source": [
    "L'id du sujet"
   ],
   "metadata": {
    "collapsed": false,
    "pycharm": {
     "name": "#%% md\n"
    }
   }
  },
  {
   "cell_type": "code",
   "execution_count": 7,
   "outputs": [
    {
     "data": {
      "text/plain": "'S2'"
     },
     "metadata": {},
     "output_type": "execute_result",
     "execution_count": 7
    }
   ],
   "source": [
    "s1_df['subject']"
   ],
   "metadata": {
    "collapsed": false,
    "pycharm": {
     "name": "#%%\n",
     "is_executing": false
    }
   }
  },
  {
   "cell_type": "markdown",
   "source": [
    "Fréquence cardiaque grâce à l'électrocardiographie (ECG)"
   ],
   "metadata": {
    "collapsed": false,
    "pycharm": {
     "name": "#%% md\n"
    }
   }
  },
  {
   "cell_type": "code",
   "execution_count": 8,
   "outputs": [
    {
     "data": {
      "text/plain": "array([     33,     700,    1316, ..., 5742473, 5742909, 5743349],\n      dtype=int32)"
     },
     "metadata": {},
     "output_type": "execute_result",
     "execution_count": 8
    }
   ],
   "source": [
    "s1_df['rpeaks']"
   ],
   "metadata": {
    "collapsed": false,
    "pycharm": {
     "name": "#%%\n",
     "is_executing": false
    }
   }
  },
  {
   "cell_type": "markdown",
   "source": [
    "Contient toutes les données enregistrer par RespiBAN (torse) et Empatica E4 (poignet)\n",
    "\n",
    "Chaque donnée est descrite dans le fichier info.txt de chaque dossier patient"
   ],
   "metadata": {
    "collapsed": false,
    "pycharm": {
     "name": "#%% md\n"
    }
   }
  },
  {
   "cell_type": "code",
   "execution_count": 9,
   "outputs": [
    {
     "data": {
      "text/plain": "{'chest': {'ACC': array([[ 0.91139996,  0.03219998,  0.051     ],\n         [ 0.91120005,  0.03240001,  0.04900002],\n         [ 0.90900004,  0.03460002,  0.04579997],\n         ...,\n         [ 0.91659999,  0.02900004, -0.04180002],\n         [ 0.91719997,  0.03120005, -0.04220003],\n         [ 0.91620004,  0.03120005, -0.03920001]]),\n  'ECG': array([[-0.02503967],\n         [-0.02778625],\n         [-0.03515625],\n         ...,\n         [ 0.06454468],\n         [ 0.06646729],\n         [ 0.07122803]]),\n  'EMG': array([[-1.5],\n         [-1.5],\n         [-1.5],\n         ...,\n         [-1.5],\n         [-1.5],\n         [-1.5]]),\n  'EDA': array([[0.],\n         [0.],\n         [0.],\n         ...,\n         [0.],\n         [0.],\n         [0.]]),\n  'Temp': array([[-273.15],\n         [-273.15],\n         [-273.15],\n         ...,\n         [-273.15],\n         [-273.15],\n         [-273.15]], dtype=float32),\n  'Resp': array([[-3.0380249 ],\n         [-3.04412842],\n         [-3.07006836],\n         ...,\n         [ 4.35028076],\n         [ 4.33654785],\n         [ 4.33807373]])},\n 'wrist': {'ACC': array([[-0.5625  ,  0.046875,  0.84375 ],\n         [-0.5625  ,  0.046875,  0.84375 ],\n         [-0.5625  ,  0.046875,  0.84375 ],\n         ...,\n         [-0.671875,  1.296875,  0.1875  ],\n         [-0.40625 ,  1.15625 ,  0.359375],\n         [-0.375   ,  1.0625  ,  0.390625]]), 'BVP': array([[-4.36],\n         [-5.11],\n         [-5.4 ],\n         ...,\n         [ 2.64],\n         [ 0.17],\n         [-2.58]]), 'EDA': array([[0.267766],\n         [0.262641],\n         [0.26136 ],\n         ...,\n         [3.363043],\n         [3.378417],\n         [3.393791]]), 'TEMP': array([[31.67],\n         [31.67],\n         [31.67],\n         ...,\n         [35.09],\n         [35.09],\n         [35.09]])}}"
     },
     "metadata": {},
     "output_type": "execute_result",
     "execution_count": 9
    }
   ],
   "source": [
    "s1_df['signal']"
   ],
   "metadata": {
    "collapsed": false,
    "pycharm": {
     "name": "#%%\n",
     "is_executing": false
    }
   }
  },
  {
   "cell_type": "markdown",
   "source": [
    "Moyenne de la fréquence cardiaque"
   ],
   "metadata": {
    "collapsed": false,
    "pycharm": {
     "name": "#%% md\n"
    }
   }
  },
  {
   "cell_type": "code",
   "execution_count": 4,
   "outputs": [
    {
     "data": {
      "text/plain": "array([70.9229657 , 71.29105528, 68.69383264, ..., 95.13817648,\n       96.7405001 , 96.84438537])"
     },
     "metadata": {},
     "output_type": "execute_result",
     "execution_count": 4
    }
   ],
   "source": [
    "s1_df['label']"
   ],
   "metadata": {
    "collapsed": false,
    "pycharm": {
     "name": "#%%\n",
     "is_executing": false
    }
   }
  },
  {
   "cell_type": "code",
   "execution_count": 5,
   "outputs": [
    {
     "data": {
      "text/plain": "array([[0.],\n       [0.],\n       [0.],\n       ...,\n       [0.],\n       [0.],\n       [0.]])"
     },
     "metadata": {},
     "output_type": "execute_result",
     "execution_count": 5
    }
   ],
   "source": [
    "s1_df['activity']"
   ],
   "metadata": {
    "collapsed": false,
    "pycharm": {
     "name": "#%%\n",
     "is_executing": false
    }
   }
  },
  {
   "cell_type": "markdown",
   "source": [
    "Information sur la personne"
   ],
   "metadata": {
    "collapsed": false,
    "pycharm": {
     "name": "#%% md\n"
    }
   }
  },
  {
   "cell_type": "code",
   "execution_count": 22,
   "outputs": [
    {
     "data": {
      "text/plain": "{'WEIGHT': 78.0,\n 'Gender': ' m',\n 'AGE': 34,\n 'HEIGHT': 182.0,\n 'SKIN': 3,\n 'SPORT': 6}"
     },
     "metadata": {},
     "output_type": "execute_result",
     "execution_count": 22
    }
   ],
   "source": [
    "s1_df['questionnaire']"
   ],
   "metadata": {
    "collapsed": false,
    "pycharm": {
     "name": "#%%\n",
     "is_executing": false
    }
   }
  },
  {
   "cell_type": "code",
   "execution_count": 13,
   "outputs": [
    {
     "data": {
      "text/plain": "        # SUBJECT_ID    S2\n0      # NO_ACTIVITY     0\n1         # BASELINE   202\n2      # NO_ACTIVITY   803\n3           # STAIRS   980\n4      # NO_ACTIVITY  1248\n5           # SOCCER  1304\n6      # NO_ACTIVITY  1609\n7          # CYCLING  2013\n8      # NO_ACTIVITY  2401\n9          # DRIVING  2945\n10     # NO_ACTIVITY  3866\n11           # LUNCH  4710\n12         # WALKING  5931\n13     # NO_ACTIVITY  6621\n14         # WORKING  6722\n15     # NO_ACTIVITY  8014\n16  # CLEAN_BASELINE  8068\n17     # NO_ACTIVITY  8189",
      "text/html": "<div>\n<style scoped>\n    .dataframe tbody tr th:only-of-type {\n        vertical-align: middle;\n    }\n\n    .dataframe tbody tr th {\n        vertical-align: top;\n    }\n\n    .dataframe thead th {\n        text-align: right;\n    }\n</style>\n<table border=\"1\" class=\"dataframe\">\n  <thead>\n    <tr style=\"text-align: right;\">\n      <th></th>\n      <th># SUBJECT_ID</th>\n      <th>S2</th>\n    </tr>\n  </thead>\n  <tbody>\n    <tr>\n      <th>0</th>\n      <td># NO_ACTIVITY</td>\n      <td>0</td>\n    </tr>\n    <tr>\n      <th>1</th>\n      <td># BASELINE</td>\n      <td>202</td>\n    </tr>\n    <tr>\n      <th>2</th>\n      <td># NO_ACTIVITY</td>\n      <td>803</td>\n    </tr>\n    <tr>\n      <th>3</th>\n      <td># STAIRS</td>\n      <td>980</td>\n    </tr>\n    <tr>\n      <th>4</th>\n      <td># NO_ACTIVITY</td>\n      <td>1248</td>\n    </tr>\n    <tr>\n      <th>5</th>\n      <td># SOCCER</td>\n      <td>1304</td>\n    </tr>\n    <tr>\n      <th>6</th>\n      <td># NO_ACTIVITY</td>\n      <td>1609</td>\n    </tr>\n    <tr>\n      <th>7</th>\n      <td># CYCLING</td>\n      <td>2013</td>\n    </tr>\n    <tr>\n      <th>8</th>\n      <td># NO_ACTIVITY</td>\n      <td>2401</td>\n    </tr>\n    <tr>\n      <th>9</th>\n      <td># DRIVING</td>\n      <td>2945</td>\n    </tr>\n    <tr>\n      <th>10</th>\n      <td># NO_ACTIVITY</td>\n      <td>3866</td>\n    </tr>\n    <tr>\n      <th>11</th>\n      <td># LUNCH</td>\n      <td>4710</td>\n    </tr>\n    <tr>\n      <th>12</th>\n      <td># WALKING</td>\n      <td>5931</td>\n    </tr>\n    <tr>\n      <th>13</th>\n      <td># NO_ACTIVITY</td>\n      <td>6621</td>\n    </tr>\n    <tr>\n      <th>14</th>\n      <td># WORKING</td>\n      <td>6722</td>\n    </tr>\n    <tr>\n      <th>15</th>\n      <td># NO_ACTIVITY</td>\n      <td>8014</td>\n    </tr>\n    <tr>\n      <th>16</th>\n      <td># CLEAN_BASELINE</td>\n      <td>8068</td>\n    </tr>\n    <tr>\n      <th>17</th>\n      <td># NO_ACTIVITY</td>\n      <td>8189</td>\n    </tr>\n  </tbody>\n</table>\n</div>"
     },
     "metadata": {},
     "output_type": "execute_result",
     "execution_count": 13
    }
   ],
   "source": [
    "s1_activity"
   ],
   "metadata": {
    "collapsed": false,
    "pycharm": {
     "name": "#%%\n",
     "is_executing": false
    }
   }
  },
  {
   "cell_type": "code",
   "execution_count": 4,
   "outputs": [
    {
     "data": {
      "text/plain": "<Figure size 432x288 with 1 Axes>",
      "image/png": "[encoded data removed]"
     },
     "metadata": {
      "needs_background": "light"
     },
     "output_type": "display_data"
    }
   ],
   "source": [
    "import matplotlib.pyplot as plt\n",
    "\n",
    "fig, ax = plt.subplots()\n",
    "ax.plot(s1_activity[' S2'], s1_activity['# SUBJECT_ID'], label=\"graph test\")\n",
    "ax.legend()\n",
    "plt.show()"
   ],
   "metadata": {
    "collapsed": false,
    "pycharm": {
     "name": "#%%\n",
     "is_executing": false
    }
   }
  },
  {
   "cell_type": "code",
   "execution_count": 7,
   "outputs": [
    {
     "name": "stdout",
     "text": [
      "ACC\n",
      "BVP\n",
      "EDA\n",
      "TEMP\n",
      "(525120, 1)\n",
      "(18,)\n"
     ],
     "output_type": "stream"
    }
   ],
   "source": [
    "for signal in s1_df['signal']['wrist']:\n",
    "     print(signal)\n",
    "    \n",
    "print(s1_df['signal']['wrist']['BVP'].shape)\n",
    "print(s1_activity[' S2'].shape)"
   ],
   "metadata": {
    "collapsed": false,
    "pycharm": {
     "name": "#%%\n",
     "is_executing": false
    }
   }
  },
  {
   "cell_type": "markdown",
   "source": [
    "Les signaux à analyser sont ACC (wrist & chest), ECG (chest), RESP (chest) ET BVP (wrist) "
   ],
   "metadata": {
    "collapsed": false,
    "pycharm": {
     "name": "#%% md\n"
    }
   }
  },
  {
   "cell_type": "code",
   "execution_count": 10,
   "outputs": [
    {
     "data": {
      "text/plain": "array([-0.5625  ,  0.046875,  0.84375 ])"
     },
     "metadata": {},
     "output_type": "execute_result",
     "execution_count": 10
    }
   ],
   "source": [
    "s1_df['signal']['wrist']['ACC'][0]"
   ],
   "metadata": {
    "collapsed": false,
    "pycharm": {
     "name": "#%%\n",
     "is_executing": false
    }
   }
  },
  {
   "cell_type": "code",
   "execution_count": 5,
   "outputs": [
    {
     "name": "stderr",
     "text": [
      "/usr/local/lib/python3.7/dist-packages/IPython/core/pylabtools.py:128: UserWarning: Creating legend with loc=\"best\" can be slow with large amounts of data.\n",
      "  fig.canvas.print_figure(bytes_io, **kw)\n"
     ],
     "output_type": "stream"
    },
    {
     "data": {
      "text/plain": "<Figure size 432x288 with 1 Axes>",
      "image/png": "[encoded data removed]"
     },
     "metadata": {
      "needs_background": "light"
     },
     "output_type": "display_data"
    }
   ],
   "source": [
    "merge_bvp = [signal[0] for signal in s1_df['signal']['wrist']['BVP']]\n",
    "fig, ax = plt.subplots()\n",
    "ax.plot(merge_bvp, label=\"graph test\")\n",
    "ax.legend()\n",
    "plt.show()"
   ],
   "metadata": {
    "collapsed": false,
    "pycharm": {
     "name": "#%%\n",
     "is_executing": false
    }
   }
  },
  {
   "cell_type": "code",
   "execution_count": 15,
   "outputs": [],
   "source": [
    "def heart_rate_feature(patient):\n",
    "    # on multiplie par 8 car les signaux sont enregistré sur une fenêtre de 8 secondes\n",
    "    diff = len(patient['activity']) - ( 8 * len(patient['label']))\n",
    "\n",
    "    activity=[]\n",
    "    for i in range(len(patient['activity'])-diff):\n",
    "        activity.append(patient['activity'][i])\n",
    "\n",
    "\n",
    "    heart_rate=[]\n",
    "    for i in range(len(patient['label'])):\n",
    "        for j in range(8):\n",
    "            heart_rate.append(patient['label'][i])\n",
    "\n",
    "                \n",
    "    diff=len(activity)-(len(heart_rate))\n",
    "\n",
    "    profil = list()\n",
    "    for i in patient['questionnaire'].keys():\n",
    "        profil.append(patient['questionnaire'][i])\n",
    "\n",
    "    activity=pd.DataFrame(activity)\n",
    "    heart_rate=pd.DataFrame(heart_rate)\n",
    "    profil=pd.DataFrame.from_dict(patient['questionnaire'],orient='index')\n",
    "    profil=profil.T\n",
    "\n",
    "    # 0 pour homme, 1 pour femme\n",
    "    if profil['Gender'].iloc[0] == 'm' : profil['Gender'] = 0 \n",
    "    else : profil['Gender'] = 1  \n",
    "\n",
    "    test=[]\n",
    "    index=[]\n",
    "\n",
    "    for i in range(len(activity)):\n",
    "        test.append(profil.iloc[0])\n",
    "        index.append(i)\n",
    "    profil=pd.DataFrame(test)\n",
    "    profil=profil.set_index([index])\n",
    "\n",
    "    heart_rate_feature = heart_rate.join(profil)\n",
    "    #heart_rate_feature=heart_rate_feature.join(activity)\n",
    "    return (heart_rate_feature, activity)\n",
    "    #return data['signal']\n"
   ],
   "metadata": {
    "collapsed": false,
    "pycharm": {
     "name": "#%%\n",
     "is_executing": false
    }
   }
  },
  {
   "cell_type": "code",
   "execution_count": 16,
   "outputs": [],
   "source": [
    "feat2, targ2=heart_rate_feature(patient)"
   ],
   "metadata": {
    "collapsed": false,
    "pycharm": {
     "name": "#%%\n",
     "is_executing": false
    }
   }
  }
 ],
 "metadata": {
  "kernelspec": {
   "name": "pycharm-957dced",
   "language": "python",
   "display_name": "PyCharm (KerasObjectDetector)"
  },
  "language_info": {
   "codemirror_mode": {
    "name": "ipython",
    "version": 2
   },
   "file_extension": ".py",
   "mimetype": "text/x-python",
   "name": "python",
   "nbconvert_exporter": "python",
   "pygments_lexer": "ipython2",
   "version": "2.7.6"
  },
  "pycharm": {
   "stem_cell": {
    "cell_type": "raw",
    "source": [],
    "metadata": {
     "collapsed": false
    }
   }
  }
 },
 "nbformat": 4,
 "nbformat_minor": 0
}