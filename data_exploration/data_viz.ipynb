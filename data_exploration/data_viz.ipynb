{
 "cells": [
  {
   "cell_type": "markdown",
   "source": [
    "# Data exploration &  pré-processing"
   ],
   "metadata": {
    "collapsed": false
   }
  },
  {
   "cell_type": "code",
   "execution_count": 1,
   "metadata": {
    "collapsed": true,
    "pycharm": {
     "is_executing": false
    }
   },
   "outputs": [],
   "source": [
    "import pandas as pd\n",
    "s1_df = pd.read_pickle(\"../src/model/data/S2/S2.pkl\")\n",
    "s1_activity = pd.read_csv(\"../src/model/data/S2/S2_activity.csv\")"
   ]
  },
  {
   "cell_type": "code",
   "execution_count": 2,
   "outputs": [],
   "source": [
    "s1_keys = s1_df.keys()"
   ],
   "metadata": {
    "collapsed": false,
    "pycharm": {
     "name": "#%%\n",
     "is_executing": false
    }
   }
  },
  {
   "cell_type": "markdown",
   "source": [
    "L'id du sujet"
   ],
   "metadata": {
    "collapsed": false,
    "pycharm": {
     "name": "#%% md\n"
    }
   }
  },
  {
   "cell_type": "code",
   "execution_count": 3,
   "outputs": [
    {
     "data": {
      "text/plain": "'S2'"
     },
     "metadata": {},
     "output_type": "execute_result",
     "execution_count": 3
    }
   ],
   "source": [
    "s1_df['subject']"
   ],
   "metadata": {
    "collapsed": false,
    "pycharm": {
     "name": "#%%\n",
     "is_executing": false
    }
   }
  },
  {
   "cell_type": "markdown",
   "source": [
    "Fréquence cardiaque grâce à l'électrocardiographie (ECG)"
   ],
   "metadata": {
    "collapsed": false,
    "pycharm": {
     "name": "#%% md\n"
    }
   }
  },
  {
   "cell_type": "code",
   "execution_count": 4,
   "outputs": [
    {
     "data": {
      "text/plain": "array([     33,     700,    1316, ..., 5742473, 5742909, 5743349],\n      dtype=int32)"
     },
     "metadata": {},
     "output_type": "execute_result",
     "execution_count": 4
    }
   ],
   "source": [
    "s1_df['rpeaks']"
   ],
   "metadata": {
    "collapsed": false,
    "pycharm": {
     "name": "#%%\n",
     "is_executing": false
    }
   }
  },
  {
   "cell_type": "markdown",
   "source": [
    "Contient toutes les données enregistrer par RespiBAN (torse) et Empatica E4 (poignet)\n",
    "\n",
    "Chaque donnée est descrite dans le fichier info.txt de chaque dossier patient"
   ],
   "metadata": {
    "collapsed": false,
    "pycharm": {
     "name": "#%% md\n"
    }
   }
  },
  {
   "cell_type": "code",
   "execution_count": 15,
   "outputs": [
    {
     "data": {
      "text/plain": "{'chest': {'ACC': array([[ 0.91139996,  0.03219998,  0.051     ],\n         [ 0.91120005,  0.03240001,  0.04900002],\n         [ 0.90900004,  0.03460002,  0.04579997],\n         ...,\n         [ 0.91659999,  0.02900004, -0.04180002],\n         [ 0.91719997,  0.03120005, -0.04220003],\n         [ 0.91620004,  0.03120005, -0.03920001]]),\n  'ECG': array([[-0.02503967],\n         [-0.02778625],\n         [-0.03515625],\n         ...,\n         [ 0.06454468],\n         [ 0.06646729],\n         [ 0.07122803]]),\n  'EMG': array([[-1.5],\n         [-1.5],\n         [-1.5],\n         ...,\n         [-1.5],\n         [-1.5],\n         [-1.5]]),\n  'EDA': array([[0.],\n         [0.],\n         [0.],\n         ...,\n         [0.],\n         [0.],\n         [0.]]),\n  'Temp': array([[-273.15],\n         [-273.15],\n         [-273.15],\n         ...,\n         [-273.15],\n         [-273.15],\n         [-273.15]], dtype=float32),\n  'Resp': array([[-3.0380249 ],\n         [-3.04412842],\n         [-3.07006836],\n         ...,\n         [ 4.35028076],\n         [ 4.33654785],\n         [ 4.33807373]])},\n 'wrist': {'ACC': array([[-0.5625  ,  0.046875,  0.84375 ],\n         [-0.5625  ,  0.046875,  0.84375 ],\n         [-0.5625  ,  0.046875,  0.84375 ],\n         ...,\n         [-0.671875,  1.296875,  0.1875  ],\n         [-0.40625 ,  1.15625 ,  0.359375],\n         [-0.375   ,  1.0625  ,  0.390625]]), 'BVP': array([[-4.36],\n         [-5.11],\n         [-5.4 ],\n         ...,\n         [ 2.64],\n         [ 0.17],\n         [-2.58]]), 'EDA': array([[0.267766],\n         [0.262641],\n         [0.26136 ],\n         ...,\n         [3.363043],\n         [3.378417],\n         [3.393791]]), 'TEMP': array([[31.67],\n         [31.67],\n         [31.67],\n         ...,\n         [35.09],\n         [35.09],\n         [35.09]])}}"
     },
     "metadata": {},
     "output_type": "execute_result",
     "execution_count": 15
    }
   ],
   "source": [
    "s1_df['signal']"
   ],
   "metadata": {
    "collapsed": false,
    "pycharm": {
     "name": "#%%\n",
     "is_executing": false
    }
   }
  },
  {
   "cell_type": "markdown",
   "source": [
    "Moyenne de la fréquence cardiaque"
   ],
   "metadata": {
    "collapsed": false,
    "pycharm": {
     "name": "#%% md\n"
    }
   }
  },
  {
   "cell_type": "code",
   "execution_count": 4,
   "outputs": [
    {
     "data": {
      "text/plain": "array([70.9229657 , 71.29105528, 68.69383264, ..., 95.13817648,\n       96.7405001 , 96.84438537])"
     },
     "metadata": {},
     "output_type": "execute_result",
     "execution_count": 4
    }
   ],
   "source": [
    "s1_df['label']"
   ],
   "metadata": {
    "collapsed": false,
    "pycharm": {
     "name": "#%%\n",
     "is_executing": false
    }
   }
  },
  {
   "cell_type": "code",
   "execution_count": 5,
   "outputs": [
    {
     "data": {
      "text/plain": "array([[0.],\n       [0.],\n       [0.],\n       ...,\n       [0.],\n       [0.],\n       [0.]])"
     },
     "metadata": {},
     "output_type": "execute_result",
     "execution_count": 5
    }
   ],
   "source": [
    "s1_df['activity']"
   ],
   "metadata": {
    "collapsed": false,
    "pycharm": {
     "name": "#%%\n",
     "is_executing": false
    }
   }
  },
  {
   "cell_type": "markdown",
   "source": [
    "Information sur la personne"
   ],
   "metadata": {
    "collapsed": false,
    "pycharm": {
     "name": "#%% md\n"
    }
   }
  },
  {
   "cell_type": "code",
   "execution_count": 22,
   "outputs": [
    {
     "data": {
      "text/plain": "{'WEIGHT': 78.0,\n 'Gender': ' m',\n 'AGE': 34,\n 'HEIGHT': 182.0,\n 'SKIN': 3,\n 'SPORT': 6}"
     },
     "metadata": {},
     "output_type": "execute_result",
     "execution_count": 22
    }
   ],
   "source": [
    "s1_df['questionnaire']"
   ],
   "metadata": {
    "collapsed": false,
    "pycharm": {
     "name": "#%%\n",
     "is_executing": false
    }
   }
  },
  {
   "cell_type": "code",
   "execution_count": null,
   "outputs": [],
   "source": [
    "s1_activity"
   ],
   "metadata": {
    "collapsed": false,
    "pycharm": {
     "name": "#%%\n"
    }
   }
  },
  {
   "cell_type": "code",
   "execution_count": null,
   "outputs": [],
   "source": [
    "import matplotlib.pyplot as plt\n",
    "\n",
    "fig, ax = plt.subplots()\n",
    "ax.plot(s1_activity[' S2'], s1_activity['# SUBJECT_ID'], label=\"graph test\")\n",
    "ax.legend()\n",
    "plt.show()"
   ],
   "metadata": {
    "collapsed": false,
    "pycharm": {
     "name": "#%%\n"
    }
   }
  },
  {
   "cell_type": "code",
   "execution_count": 16,
   "outputs": [
    {
     "name": "stdout",
     "text": [
      "ACC\n",
      "ECG\n",
      "EMG\n",
      "EDA\n",
      "Temp\n",
      "Resp\n"
     ],
     "output_type": "stream"
    }
   ],
   "source": [
    "for signal in s1_df['signal']['chest']:\n",
    "     print(signal)\n",
    "    \n",
    "#print(s1_df['signal']['wrist']['BVP'].shape)\n",
    "#print(s1_activity[' S2'].shape)"
   ],
   "metadata": {
    "collapsed": false,
    "pycharm": {
     "name": "#%%\n",
     "is_executing": false
    }
   }
  },
  {
   "cell_type": "markdown",
   "source": [
    "Les signaux à analyser sont ACC (wrist & chest), ECG (chest), RESP (chest) ET BVP (wrist) "
   ],
   "metadata": {
    "collapsed": false
   }
  },
  {
   "cell_type": "code",
   "execution_count": null,
   "outputs": [],
   "source": [
    "s1_df['signal']['wrist']['ACC'][0]"
   ],
   "metadata": {
    "collapsed": false,
    "pycharm": {
     "name": "#%%\n",
     "is_executing": true
    }
   }
  },
  {
   "cell_type": "code",
   "execution_count": null,
   "outputs": [],
   "source": [
    "merge_bvp = [signal[0] for signal in s1_df['signal']['wrist']['BVP']]\n",
    "fig, ax = plt.subplots()\n",
    "ax.plot(merge_bvp, label=\"graph test\")\n",
    "ax.legend()\n",
    "plt.show()"
   ],
   "metadata": {
    "collapsed": false,
    "pycharm": {
     "name": "#%%\n"
    }
   }
  },
  {
   "cell_type": "code",
   "execution_count": 3,
   "outputs": [],
   "source": [
    "def scaling_data(signal, frequence):\n",
    "    scale_step = int(frequence / 4)\n",
    "    \n",
    "    scaled_signal = list()\n",
    "    for i in range(0, len(signal), scale_step):\n",
    "        somme_echelle_4_hz = sum(signal[i : i + scale_step]) / scale_step\n",
    "        scaled_signal.append(somme_echelle_4_hz)\n",
    "    return scaled_signal\n",
    "\n",
    "\"\"\"\n",
    "Supprime les signaux inutiles\n",
    "on fait une copie pour garder les données du patient\n",
    "\"\"\"\n",
    "def remove_useless_data(patient):\n",
    "    # on supprime les données inutiles\n",
    "    copy_patient = patient\n",
    "    del copy_patient['signal']['chest']['EDA']\n",
    "    del copy_patient['signal']['chest']['EMG']\n",
    "    del copy_patient['signal']['chest']['Temp']\n",
    "    del copy_patient['signal']['wrist']['EDA']\n",
    "    \n",
    "    return copy_patient\n",
    "\n",
    "\"\"\"\n",
    "Retourne un dataframe traité provenant des données patients\n",
    "\n",
    ":parameter:\n",
    "patient (dict): donnée patient (fichier pkl)\n",
    "\n",
    ":returns:\n",
    "DataFrame: Données patient traitées\n",
    "\"\"\"\n",
    "def pretreatment(patient):\n",
    "    patient = remove_useless_data(patient)\n",
    "    # Données torses RespiBan : ACC ECG et Resp sont à 700Hz\n",
    "    # On renome les clés pour y accéder plus facilement\n",
    "    patient[\"signal_chest_ACC\"] = scaling_data(patient[\"signal\"][\"chest\"][\"ACC\"], 700)\n",
    "    patient[\"signal_chest_ECG\"] = scaling_data(patient[\"signal\"][\"chest\"][\"ECG\"], 700)\n",
    "    patient[\"signal_chest_Resp\"] = scaling_data(patient[\"signal\"][\"chest\"][\"Resp\"], 700)\n",
    "    \n",
    "    # On supprime les anciennes clés\n",
    "    del patient['signal']['chest']['ACC']\n",
    "    del patient[\"signal\"][\"chest\"][\"ECG\"]\n",
    "    del patient['signal']['chest']['Resp']\n",
    "\n",
    "    # Données Poignet : ACC à 32Hz et BVP à 64Hz\n",
    "    # Même traitement que pour les données torses\n",
    "    patient[\"signal_wrist_ACC\"] = scaling_data( patient[\"signal\"][\"wrist\"][\"ACC\"], 32)\n",
    "    patient[\"signal_wrist_BVP\"] = scaling_data( patient[\"signal\"][\"wrist\"][\"BVP\"], 64)\n",
    "    \n",
    "    del patient['signal']['wrist']['ACC']\n",
    "    del patient['signal']['wrist']['BVP']\n",
    "\n",
    "    # 0 pour homme, 1 pour femme\n",
    "    patient['gender'] = 0  if patient['questionnaire']['Gender'] == 'm' else 1\n",
    "    del patient ['questionnaire']['Gender']\n",
    "    \n",
    "    return pd.DataFrame.from_dict(patient)\n",
    "    #return data['signal']"
   ],
   "metadata": {
    "collapsed": false,
    "pycharm": {
     "name": "#%%\n",
     "is_executing": false
    }
   }
  },
  {
   "cell_type": "code",
   "execution_count": null,
   "outputs": [],
   "source": [
    "s1_df['questionnaire']\n",
    "#s1_test = pretreatment(s1_df)\n",
    "\n"
   ],
   "metadata": {
    "collapsed": false,
    "pycharm": {
     "name": "#%%\n",
     "is_executing": true
    }
   }
  }
 ],
 "metadata": {
  "kernelspec": {
   "name": "pycharm-db52a0db",
   "language": "python",
   "display_name": "PyCharm (esilv-projet-python-a5)"
  },
  "language_info": {
   "codemirror_mode": {
    "name": "ipython",
    "version": 2
   },
   "file_extension": ".py",
   "mimetype": "text/x-python",
   "name": "python",
   "nbconvert_exporter": "python",
   "pygments_lexer": "ipython2",
   "version": "2.7.6"
  },
  "pycharm": {
   "stem_cell": {
    "cell_type": "raw",
    "source": [],
    "metadata": {
     "collapsed": false
    }
   }
  }
 },
 "nbformat": 4,
 "nbformat_minor": 0
}