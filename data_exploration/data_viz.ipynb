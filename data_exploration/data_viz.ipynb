{
 "cells": [
  {
   "cell_type": "markdown",
   "source": [
    "Premièrement on va commencer par regarder les données qu'on peut exploiter grâce au sujet 1"
   ],
   "metadata": {
    "collapsed": false
   }
  },
  {
   "cell_type": "code",
   "execution_count": 2,
   "metadata": {
    "collapsed": true,
    "pycharm": {
     "is_executing": false
    }
   },
   "outputs": [],
   "source": [
    "import pandas as pd\n",
    "s1_df = pd.read_pickle(\"../src/model/data/S1/S1.pkl\")"
   ]
  },
  {
   "cell_type": "code",
   "execution_count": 11,
   "outputs": [
    {
     "data": {
      "text/plain": "dict_keys(['rpeaks', 'signal', 'label', 'activity', 'questionnaire', 'subject'])"
     },
     "metadata": {},
     "output_type": "execute_result",
     "execution_count": 11
    }
   ],
   "source": [
    "type(s1_df)\n",
    "s1_keys = s1_df.keys()"
   ],
   "metadata": {
    "collapsed": false,
    "pycharm": {
     "name": "#%%\n",
     "is_executing": false
    }
   }
  },
  {
   "cell_type": "markdown",
   "source": [
    "L'id du sujet"
   ],
   "metadata": {
    "collapsed": false,
    "pycharm": {
     "name": "#%% md\n"
    }
   }
  },
  {
   "cell_type": "code",
   "execution_count": 17,
   "outputs": [
    {
     "data": {
      "text/plain": "'S1'"
     },
     "metadata": {},
     "output_type": "execute_result",
     "execution_count": 17
    }
   ],
   "source": [
    "s1_df['subject']"
   ],
   "metadata": {
    "collapsed": false,
    "pycharm": {
     "name": "#%%\n",
     "is_executing": false
    }
   }
  },
  {
   "cell_type": "markdown",
   "source": [
    "Fréquence cardiaque grâce à l'électrocardiographie (ECG)"
   ],
   "metadata": {
    "collapsed": false,
    "pycharm": {
     "name": "#%% md\n"
    }
   }
  },
  {
   "cell_type": "code",
   "execution_count": 18,
   "outputs": [
    {
     "data": {
      "text/plain": "array([    240,    1174,    2128, ..., 6447292, 6447748, 6448224],\n      dtype=int32)"
     },
     "metadata": {},
     "output_type": "execute_result",
     "execution_count": 18
    }
   ],
   "source": [
    "s1_df['rpeaks']"
   ],
   "metadata": {
    "collapsed": false,
    "pycharm": {
     "name": "#%%\n",
     "is_executing": false
    }
   }
  },
  {
   "cell_type": "markdown",
   "source": [
    "Contient toutes les données enregistrer par RespiBAN (torse) et Empatica E4 (poignet)\n",
    "\n",
    "Chaque donnée est descrite dans le fichier info.txt de chaque dossier patient"
   ],
   "metadata": {
    "collapsed": false,
    "pycharm": {
     "name": "#%% md\n"
    }
   }
  },
  {
   "cell_type": "code",
   "execution_count": 23,
   "outputs": [
    {
     "data": {
      "text/plain": "{'chest': {'ACC': array([[ 0.85640001, -0.06779999, -0.36559999],\n         [ 0.8556    , -0.06900001, -0.3646    ],\n         [ 0.852     , -0.07020003, -0.3642    ],\n         ...,\n         [ 0.88759995, -0.1038    , -0.27920002],\n         [ 0.88619995, -0.10159999, -0.27819997],\n         [ 0.88680005, -0.10140002, -0.27380002]]), 'ECG': array([[0.01560974],\n         [0.01812744],\n         [0.01753235],\n         ...,\n         [0.21368408],\n         [0.21556091],\n         [0.21702576]]), 'EMG': array([[-1.5],\n         [-1.5],\n         [-1.5],\n         ...,\n         [-1.5],\n         [-1.5],\n         [-1.5]]), 'EDA': array([[0.],\n         [0.],\n         [0.],\n         ...,\n         [0.],\n         [0.],\n         [0.]]), 'Temp': array([[-273.15],\n         [-273.15],\n         [-273.15],\n         ...,\n         [-273.15],\n         [-273.15],\n         [-273.15]], dtype=float32), 'Resp': array([[ 4.4418335 ],\n         [ 4.45098877],\n         [ 4.47387695],\n         ...,\n         [-3.05023193],\n         [-3.05328369],\n         [-3.05633545]])},\n 'wrist': {'ACC': array([[-0.765625, -0.078125,  0.671875],\n         [-0.765625, -0.078125,  0.65625 ],\n         [-0.765625, -0.078125,  0.671875],\n         ...,\n         [-0.375   , -0.015625,  0.9375  ],\n         [-0.390625,  0.      ,  0.9375  ],\n         [-0.375   ,  0.      ,  0.9375  ]]), 'BVP': array([[  7.28],\n         [  6.33],\n         [  5.46],\n         ...,\n         [105.02],\n         [109.44],\n         [111.06]]), 'EDA': array([[4.722437],\n         [4.728843],\n         [4.718594],\n         ...,\n         [3.170867],\n         [3.159336],\n         [3.151649]]), 'TEMP': array([[32.13],\n         [32.16],\n         [32.16],\n         ...,\n         [34.37],\n         [34.37],\n         [34.37]])}}"
     },
     "metadata": {},
     "output_type": "execute_result",
     "execution_count": 23
    }
   ],
   "source": [
    "s1_df['signal']"
   ],
   "metadata": {
    "collapsed": false,
    "pycharm": {
     "name": "#%%\n",
     "is_executing": false
    }
   }
  },
  {
   "cell_type": "markdown",
   "source": [
    "Moyenne de la fréquence cardiaque"
   ],
   "metadata": {
    "collapsed": false,
    "pycharm": {
     "name": "#%% md\n"
    }
   }
  },
  {
   "cell_type": "code",
   "execution_count": 26,
   "outputs": [
    {
     "data": {
      "text/plain": "array([49.61136908, 50.32399248, 52.70833578, ..., 84.004991  ,\n       85.79625673, 87.4113988 ])"
     },
     "metadata": {},
     "output_type": "execute_result",
     "execution_count": 26
    }
   ],
   "source": [
    "s1_df['label']"
   ],
   "metadata": {
    "collapsed": false,
    "pycharm": {
     "name": "#%%\n",
     "is_executing": false
    }
   }
  },
  {
   "cell_type": "code",
   "execution_count": 27,
   "outputs": [
    {
     "data": {
      "text/plain": "array([0.])"
     },
     "metadata": {},
     "output_type": "execute_result",
     "execution_count": 27
    }
   ],
   "source": [
    "s1_df['activity'][0]"
   ],
   "metadata": {
    "collapsed": false,
    "pycharm": {
     "name": "#%%\n",
     "is_executing": false
    }
   }
  },
  {
   "cell_type": "markdown",
   "source": [
    "Information sur la personne"
   ],
   "metadata": {
    "collapsed": false,
    "pycharm": {
     "name": "#%% md\n"
    }
   }
  },
  {
   "cell_type": "code",
   "execution_count": 22,
   "outputs": [
    {
     "data": {
      "text/plain": "{'WEIGHT': 78.0,\n 'Gender': ' m',\n 'AGE': 34,\n 'HEIGHT': 182.0,\n 'SKIN': 3,\n 'SPORT': 6}"
     },
     "metadata": {},
     "output_type": "execute_result",
     "execution_count": 22
    }
   ],
   "source": [
    "s1_df['questionnaire']\n"
   ],
   "metadata": {
    "collapsed": false,
    "pycharm": {
     "name": "#%%\n",
     "is_executing": false
    }
   }
  }
 ],
 "metadata": {
  "kernelspec": {
   "name": "pycharm-957dced",
   "language": "python",
   "display_name": "PyCharm (KerasObjectDetector)"
  },
  "language_info": {
   "codemirror_mode": {
    "name": "ipython",
    "version": 2
   },
   "file_extension": ".py",
   "mimetype": "text/x-python",
   "name": "python",
   "nbconvert_exporter": "python",
   "pygments_lexer": "ipython2",
   "version": "2.7.6"
  },
  "pycharm": {
   "stem_cell": {
    "cell_type": "raw",
    "source": [],
    "metadata": {
     "collapsed": false
    }
   }
  }
 },
 "nbformat": 4,
 "nbformat_minor": 0
}